{
 "cells": [
  {
   "cell_type": "code",
   "execution_count": 1,
   "id": "f3e13df7-55f1-4e48-9a8e-be4ed5d16b0c",
   "metadata": {},
   "outputs": [
    {
     "data": {
      "text/html": [
       "<div>\n",
       "<style scoped>\n",
       "    .dataframe tbody tr th:only-of-type {\n",
       "        vertical-align: middle;\n",
       "    }\n",
       "\n",
       "    .dataframe tbody tr th {\n",
       "        vertical-align: top;\n",
       "    }\n",
       "\n",
       "    .dataframe thead th {\n",
       "        text-align: right;\n",
       "    }\n",
       "</style>\n",
       "<table border=\"1\" class=\"dataframe\">\n",
       "  <thead>\n",
       "    <tr style=\"text-align: right;\">\n",
       "      <th></th>\n",
       "      <th>gene_id</th>\n",
       "      <th>population</th>\n",
       "      <th>gc_content</th>\n",
       "      <th>expression</th>\n",
       "    </tr>\n",
       "  </thead>\n",
       "  <tbody>\n",
       "    <tr>\n",
       "      <th>0</th>\n",
       "      <td>Osaka_gene_001</td>\n",
       "      <td>Osaka</td>\n",
       "      <td>41.24</td>\n",
       "      <td>7.78</td>\n",
       "    </tr>\n",
       "    <tr>\n",
       "      <th>1</th>\n",
       "      <td>Osaka_gene_002</td>\n",
       "      <td>Osaka</td>\n",
       "      <td>34.68</td>\n",
       "      <td>10.64</td>\n",
       "    </tr>\n",
       "    <tr>\n",
       "      <th>2</th>\n",
       "      <td>Osaka_gene_003</td>\n",
       "      <td>Osaka</td>\n",
       "      <td>31.74</td>\n",
       "      <td>10.56</td>\n",
       "    </tr>\n",
       "    <tr>\n",
       "      <th>3</th>\n",
       "      <td>Osaka_gene_004</td>\n",
       "      <td>Osaka</td>\n",
       "      <td>51.24</td>\n",
       "      <td>12.02</td>\n",
       "    </tr>\n",
       "    <tr>\n",
       "      <th>4</th>\n",
       "      <td>Osaka_gene_005</td>\n",
       "      <td>Osaka</td>\n",
       "      <td>30.62</td>\n",
       "      <td>8.84</td>\n",
       "    </tr>\n",
       "  </tbody>\n",
       "</table>\n",
       "</div>"
      ],
      "text/plain": [
       "          gene_id population  gc_content  expression\n",
       "0  Osaka_gene_001      Osaka       41.24        7.78\n",
       "1  Osaka_gene_002      Osaka       34.68       10.64\n",
       "2  Osaka_gene_003      Osaka       31.74       10.56\n",
       "3  Osaka_gene_004      Osaka       51.24       12.02\n",
       "4  Osaka_gene_005      Osaka       30.62        8.84"
      ]
     },
     "execution_count": 1,
     "metadata": {},
     "output_type": "execute_result"
    }
   ],
   "source": [
    "import numpy as np\n",
    "import pandas as pd\n",
    "\n",
    "np.random.seed(42)\n",
    "\n",
    "n_genes = 100\n",
    "populations = ['Osaka', 'Barcelona', 'Okinawa']\n",
    "\n",
    "rows = []\n",
    "for pop in populations:\n",
    "    for i in range(1, n_genes + 1):\n",
    "        gene_id = f\"{pop}_gene_{i:03d}\"\n",
    "        gc = np.round(np.random.uniform(30, 60), 2)\n",
    "        expr = np.round(np.random.normal(loc=10, scale=2), 2)\n",
    "        rows.append([gene_id, pop, gc, expr])\n",
    "\n",
    "df = pd.DataFrame(rows, columns=[\"gene_id\", \"population\", \"gc_content\", \"expression\"])\n",
    "df.head()\n",
    "\n"
   ]
  },
  {
   "cell_type": "code",
   "execution_count": 2,
   "id": "a6f685fc-eb6e-46f8-9f9a-013553839c28",
   "metadata": {},
   "outputs": [
    {
     "name": "stdout",
     "output_type": "stream",
     "text": [
      "Dataset saved\n"
     ]
    }
   ],
   "source": [
    "df.to_csv(\"../data/simulated_gene_data.csv\", index=False)\n",
    "print(\"Dataset saved\")\n"
   ]
  },
  {
   "cell_type": "code",
   "execution_count": null,
   "id": "d8652e51-2373-4b4e-ac77-ee25a1372ee1",
   "metadata": {},
   "outputs": [],
   "source": []
  }
 ],
 "metadata": {
  "kernelspec": {
   "display_name": "Python 3 (ipykernel)",
   "language": "python",
   "name": "python3"
  },
  "language_info": {
   "codemirror_mode": {
    "name": "ipython",
    "version": 3
   },
   "file_extension": ".py",
   "mimetype": "text/x-python",
   "name": "python",
   "nbconvert_exporter": "python",
   "pygments_lexer": "ipython3",
   "version": "3.12.7"
  }
 },
 "nbformat": 4,
 "nbformat_minor": 5
}
